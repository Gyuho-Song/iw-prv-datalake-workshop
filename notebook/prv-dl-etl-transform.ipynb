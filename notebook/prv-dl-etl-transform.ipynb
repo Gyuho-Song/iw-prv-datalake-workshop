{
 "cells": [
  {
   "cell_type": "code",
   "execution_count": null,
   "metadata": {},
   "outputs": [],
   "source": [
    "import sys\n",
    "from awsglue.transforms import *\n",
    "from awsglue.utils import getResolvedOptions\n",
    "from pyspark.context import SparkContext\n",
    "from awsglue.context import GlueContext\n",
    "from awsglue.job import Job\n",
    "from pyspark.sql.functions import udf\n",
    "\n",
    "glueContext = GlueContext(SparkContext.getOrCreate())"
   ]
  },
  {
   "cell_type": "code",
   "execution_count": null,
   "metadata": {},
   "outputs": [],
   "source": [
    "sfct_raw_dynamic_df = glueContext.create_dynamic_frame.from_catalog(database=\"prv-dl-db\", table_name=\"rawdata\")\n",
    "sfct_raw_df=sfct_raw_dynamic_df.toDF()"
   ]
  },
  {
   "cell_type": "code",
   "execution_count": null,
   "metadata": {},
   "outputs": [],
   "source": [
    "sfct_raw_df.show()"
   ]
  },
  {
   "cell_type": "code",
   "execution_count": null,
   "metadata": {},
   "outputs": [],
   "source": [
    "sfct_raw_df.printSchema()"
   ]
  },
  {
   "cell_type": "code",
   "execution_count": null,
   "metadata": {},
   "outputs": [],
   "source": [
    "dict_ent_flag = {1:'Fannie Mae', 2:'Freddie Mac'}\n",
    "dict_loan_purpose = {1:'Purchase', 2:'Refinancing',4:'Home Improvement', 9: \"Not applicable\"}\n",
    "dict_federal_guarntee = {1:'Conventional',2:'FHA-insured',3:'VA-guaranteed',4:'FSA-guranteed'}\n",
    "dict_first_buyer = {1:'Yes',2:'No',9:'Not available'}\n",
    "dict_race = {1:'American Indian',2:'Asian',3:'African American',4:'Native Hawaiian',5:'White',\n",
    "             6:'information not provided',7:'not applicable',8:'no co-borrower',9:'Not available'}\n",
    "dict_borrower_ethnicity = {1:'Hispanic',2:'Not Hispanic',3:'information not provided',4:'not applicable',\n",
    "                           9:'Not available'}\n",
    "dict_co_borrower_ethnicity = {1:'Hispanic',2:'Not Hispanic',3:'information not provided',4:'not applicable',\n",
    "                           5:'no co-borrower',9:'Not available'}\n",
    "dict_borrower_gender = {1:'Male',2:'Female',3:'information not provided',4:'not applicable',9:'not available'}\n",
    "dict_occupancy_code = {1:'Owner-Occupied property',2:'Investment property',3:'not available'}\n",
    "dict_hoepa_status = {1:'Yes',2:'No',3:'not available'}\n",
    "dict_property_type = {1:'one to four-family',2:'manufactured housing',9:'unknown'}\n",
    "dict_lien_status = {1:'secured by a first lien',2:'secured by a subordinate lien',3:'not secured by a lien',\n",
    "                   4:'not applicable'}"
   ]
  },
  {
   "cell_type": "code",
   "execution_count": null,
   "metadata": {},
   "outputs": [],
   "source": [
    "ent_flag_func = udf (lambda x: dict_ent_flag.get(x))\n",
    "sfct_tmp_df=sfct_raw_df.withColumn('ent_flag',ent_flag_func(sfct_raw_df.ent_flag))\n",
    "loan_purpose_func = udf (lambda x: dict_loan_purpose.get(x))\n",
    "sfct_tmp_df=sfct_tmp_df.withColumn('loan_purpose',loan_purpose_func(sfct_tmp_df.loan_purpose))\n",
    "federal_guarntee_func = udf (lambda x: dict_federal_guarntee.get(x))\n",
    "sfct_tmp_df=sfct_tmp_df.withColumn('federal_guarntee',federal_guarntee_func(sfct_tmp_df.federal_guarntee))\n",
    "first_buyer_func = udf (lambda x: dict_first_buyer.get(x))\n",
    "sfct_tmp_df=sfct_tmp_df.withColumn('first_buyer',first_buyer_func(sfct_tmp_df.first_buyer))\n",
    "borrower_race1_func = udf (lambda x: dict_race.get(x))\n",
    "sfct_tmp_df=sfct_tmp_df.withColumn('borrower_race1',borrower_race1_func(sfct_tmp_df.borrower_race1))\n",
    "borrower_race2_func = udf (lambda x: dict_race.get(x))\n",
    "sfct_tmp_df=sfct_tmp_df.withColumn('borrower_race2',borrower_race2_func(sfct_tmp_df.borrower_race2))\n",
    "borrower_race3_func = udf (lambda x: dict_race.get(x))\n",
    "sfct_tmp_df=sfct_tmp_df.withColumn('borrower_race3',borrower_race3_func(sfct_tmp_df.borrower_race3))\n",
    "borrower_race4_func = udf (lambda x: dict_race.get(x))\n",
    "sfct_tmp_df=sfct_tmp_df.withColumn('borrower_race4',borrower_race4_func(sfct_tmp_df.borrower_race4))\n",
    "borrower_race5_func = udf (lambda x: dict_race.get(x))\n",
    "sfct_tmp_df=sfct_tmp_df.withColumn('borrower_race5',borrower_race5_func(sfct_tmp_df.borrower_race5))\n",
    "borrower_ethnicity_func = udf (lambda x: dict_borrower_ethnicity.get(x))\n",
    "sfct_tmp_df=sfct_tmp_df.withColumn('borrower_ethnicity',borrower_ethnicity_func(sfct_tmp_df.borrower_ethnicity))\n",
    "co_borrower_race1_func = udf (lambda x: dict_race.get(x))\n",
    "sfct_tmp_df=sfct_tmp_df.withColumn('co_borrower_race1',co_borrower_race1_func(sfct_tmp_df.co_borrower_race1))\n",
    "co_borrower_race2_func = udf (lambda x: dict_race.get(x))\n",
    "sfct_tmp_df=sfct_tmp_df.withColumn('co_borrower_race2',co_borrower_race2_func(sfct_tmp_df.co_borrower_race2))\n",
    "co_borrower_race3_func = udf (lambda x: dict_race.get(x))\n",
    "sfct_tmp_df=sfct_tmp_df.withColumn('co_borrower_race3',co_borrower_race3_func(sfct_tmp_df.co_borrower_race3))\n",
    "co_borrower_race4_func = udf (lambda x: dict_race.get(x))\n",
    "sfct_tmp_df=sfct_tmp_df.withColumn('co_borrower_race4',co_borrower_race4_func(sfct_tmp_df.co_borrower_race4))\n",
    "co_borrower_race5_func = udf (lambda x: dict_race.get(x))\n",
    "sfct_tmp_df=sfct_tmp_df.withColumn('co_borrower_race5',co_borrower_race5_func(sfct_tmp_df.co_borrower_race5))\n",
    "co_borrower_ethnicity_func = udf (lambda x: dict_co_borrower_ethnicity.get(x))\n",
    "sfct_tmp_df=sfct_tmp_df.withColumn('co_borrower_ethnicity',co_borrower_ethnicity_func(sfct_tmp_df.co_borrower_ethnicity))\n",
    "borrower_gender_func = udf (lambda x: dict_borrower_gender.get(x))\n",
    "sfct_tmp_df=sfct_tmp_df.withColumn('borrower_gender',borrower_gender_func(sfct_tmp_df.borrower_gender))\n",
    "occupancy_code_func = udf (lambda x: dict_occupancy_code.get(x))\n",
    "sfct_tmp_df=sfct_tmp_df.withColumn('occupancy_code',occupancy_code_func(sfct_tmp_df.occupancy_code))\n",
    "hoepa_status_func = udf (lambda x: dict_hoepa_status.get(x))\n",
    "sfct_tmp_df=sfct_tmp_df.withColumn('hoepa_status',hoepa_status_func(sfct_tmp_df.hoepa_status))\n",
    "property_type_func = udf (lambda x: dict_property_type.get(x))\n",
    "sfct_tmp_df=sfct_tmp_df.withColumn('property_type',property_type_func(sfct_tmp_df.property_type))\n",
    "lien_status_func = udf (lambda x: dict_lien_status.get(x))\n",
    "sfct_tmp_df=sfct_tmp_df.withColumn('lien_status',lien_status_func(sfct_tmp_df.lien_status))\n",
    "\n",
    "sfct_tmp_df.show(1)"
   ]
  },
  {
   "cell_type": "code",
   "execution_count": null,
   "metadata": {},
   "outputs": [],
   "source": [
    "sfct_tmp_df.createOrReplaceTempView(\"sfct_tmp\")\n",
    "tmpSql = spark.sql(\"\"\"\n",
    "select lien_status,federal_guarntee from sfct_tmp\n",
    "\"\"\")\n",
    "\n",
    "tmpSql.show()"
   ]
  },
  {
   "cell_type": "code",
   "execution_count": null,
   "metadata": {},
   "outputs": [],
   "source": [
    "sfct_tmp_df.printSchema()"
   ]
  },
  {
   "cell_type": "code",
   "execution_count": null,
   "metadata": {},
   "outputs": [],
   "source": [
    "from awsglue.dynamicframe import DynamicFrame\n",
    "#medicare_tmp = DynamicFrame.fromDF(medicare_df, glueContext, \"nested\")\n",
    "sfct_dynamic_df = DynamicFrame.fromDF(sfct_tmp_df, glueContext, \"sfct_trasformed\")"
   ]
  },
  {
   "cell_type": "code",
   "execution_count": null,
   "metadata": {},
   "outputs": [],
   "source": [
    "glueContext.write_dynamic_frame.from_options(frame = sfct_dynamic_df,\n",
    "              connection_type = \"s3\",\n",
    "              connection_options = {\"path\": \"s3://prv-dl-<USERID>/dictionaried_data/\"},\n",
    "              format = \"parquet\")"
   ]
  },
  {
   "cell_type": "code",
   "execution_count": null,
   "metadata": {},
   "outputs": [],
   "source": [
    "sfct_raw_dynamic_df.count()"
   ]
  },
  {
   "cell_type": "code",
   "execution_count": null,
   "metadata": {},
   "outputs": [],
   "source": [
    "sfct_dynamic_df.count()"
   ]
  },
  {
   "cell_type": "code",
   "execution_count": null,
   "metadata": {},
   "outputs": [],
   "source": []
  }
 ],
 "metadata": {
  "kernelspec": {
   "display_name": "Sparkmagic (PySpark)",
   "language": "",
   "name": "pysparkkernel"
  },
  "language_info": {
   "codemirror_mode": {
    "name": "python",
    "version": 3
   },
   "mimetype": "text/x-python",
   "name": "pyspark",
   "pygments_lexer": "python3"
  }
 },
 "nbformat": 4,
 "nbformat_minor": 4
}
